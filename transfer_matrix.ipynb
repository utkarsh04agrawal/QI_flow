{
 "cells": [
  {
   "cell_type": "code",
   "execution_count": 1,
   "metadata": {},
   "outputs": [],
   "source": [
    "import numpy as np\n",
    "%matplotlib qt\n",
    "import matplotlib.pyplot as pl"
   ]
  },
  {
   "cell_type": "code",
   "execution_count": 2,
   "metadata": {},
   "outputs": [],
   "source": [
    "class State:\n",
    "    def __init__(self,L:int,p:float,q:int) -> None:\n",
    "        assert L%2 == 0\n",
    "        self.p = p\n",
    "        self.q = q\n",
    "        self.L = L\n",
    "        # index = np.arange(0,2**L,1)\n",
    "        self.data = np.zeros((2,)*L)\n",
    "        self.data[(0,)*L] = 1\n",
    "        ##\n",
    "        # no_of_ones = np.zeros(2**L,dtype=int)\n",
    "        # for i in range(L):\n",
    "        #     no_of_ones += temp%2\n",
    "        #     temp = (temp/2).astype(int)\n",
    "        # self.data = (p**2)**(L-no_of_ones)*((1 - p**2)/(q**2))**no_of_ones\n",
    "        # self.data = self.data.reshape((2,)*L)"
   ]
  },
  {
   "cell_type": "code",
   "execution_count": 134,
   "metadata": {},
   "outputs": [],
   "source": [
    "def eventransfer(State,U_t,U_k):\n",
    "    L = State.L\n",
    "    p = State.p\n",
    "    q = State.q\n",
    "    os = State.data.reshape((4,)*(L//2))\n",
    "    for x in range(L//2):\n",
    "        if x%2 == 0:\n",
    "            U = U_t\n",
    "        else:\n",
    "            U = U_k\n",
    "        os = np.tensordot(U,os,axes=(-1,x))\n",
    "    os = np.reshape(os,(2,)*L)\n",
    "    State.data = os\n",
    "\n",
    "\n",
    "def oddtransfer(State,U_t,U_k):\n",
    "    L = State.L\n",
    "    p = State.p\n",
    "    q = State.q\n",
    "    os = State.data\n",
    "    os = np.moveaxis(os,0,-1) #bringing 1st spin to the last position\n",
    "    os = np.reshape(os,(4,)*(L//2))\n",
    "\n",
    "    for x in range(L//2):\n",
    "        if x%2 == 0:\n",
    "            U = U_t\n",
    "        else:\n",
    "            U = U_k\n",
    "        os = np.tensordot(U,os,axes=(-1,x))\n",
    "    os = np.reshape(os,(2,)*L)\n",
    "    os = np.moveaxis(os,-1,0)\n",
    "    State.data = os"
   ]
  },
  {
   "cell_type": "code",
   "execution_count": 135,
   "metadata": {
    "vscode": {
     "languageId": "latex"
    }
   },
   "outputs": [],
   "source": [
    "def no_of_down_spins(N):\n",
    "    temp = np.arange(0,2**N,1,dtype=int)\n",
    "    no_of_ones = np.zeros(2**N,dtype=float)\n",
    "    for i in range(N):\n",
    "        no_of_ones += temp%2\n",
    "        temp = (temp/2).astype(int)\n",
    "    return N - no_of_ones\n",
    "\n",
    "def TopLayer(state,log_Z):\n",
    "    \"\"\"\n",
    "    This function contracts the evolved state with the top layer.\n",
    "    \"\"\"\n",
    "\n",
    "    ## Caluclate no. of down spins in each configuration\n",
    "    no_of_downs = no_of_down_spins(state.L)\n",
    "    log_Z.append((3*state.L/2)*np.log(state.q))\n",
    "    fac = np.sum(state.data.reshape(2**state.L)*((state.q)**(no_of_downs-(state.L)//2)))\n",
    "    log_Z.append(np.log(fac))\n",
    "    return log_Z"
   ]
  },
  {
   "cell_type": "code",
   "execution_count": 136,
   "metadata": {
    "vscode": {
     "languageId": "latex"
    }
   },
   "outputs": [],
   "source": [
    "def get_U_t(p,q):\n",
    "    U = np.zeros((4,4))\n",
    "    U[0,0] = p**2\n",
    "    U[3,0] = (1-p**2)/q**2\n",
    "    U[3,3] = 1\n",
    "    U[0,3] = 0\n",
    "    U[3,1] = q*p**2/(q**2+1) + (1-p**2)/q\n",
    "    U[3,2] = q*p**2/(q**2+1) + (1-p**2)/q\n",
    "    U[0,1] = p**2*q/(q**2+1)\n",
    "    U[0,2] = p**2*q/(q**2+1)\n",
    "    return U\n",
    "\n",
    "def get_U_k(p,q):\n",
    "    U = np.zeros((4,4))\n",
    "    U[0,0] = 1\n",
    "    U[3,0] = 0\n",
    "    U[3,3] = p**2\n",
    "    U[0,3] = (1-p**2)/q**2\n",
    "    U[0,2] = q*p**2/(q**2+1) + (1-p**2)/q\n",
    "    U[0,1] = q*p**2/(q**2+1) + (1-p**2)/q\n",
    "    U[3,2] = p**2*q/(q**2+1)\n",
    "    U[3,1] = p**2*q/(q**2+1)\n",
    "    return U"
   ]
  },
  {
   "cell_type": "code",
   "execution_count": 137,
   "metadata": {
    "vscode": {
     "languageId": "latex"
    }
   },
   "outputs": [],
   "source": [
    "def free_energy(L,p,q,T):\n",
    "\n",
    "    state = State(L,p,q)\n",
    "    log_Z = []\n",
    "    ##\n",
    "    U_t = get_U_t(p,q)\n",
    "    U_k = get_U_k(p,q)\n",
    "    seed=1\n",
    "    rng = np.random.default_rng(seed=seed)\n",
    "    \n",
    "    ##\n",
    "\n",
    "    for t in range(T):\n",
    "        \n",
    "        if t%2 == 0:\n",
    "            eventransfer(state,U_t,U_k)\n",
    "        else:\n",
    "            oddtransfer(state,U_t,U_k)\n",
    "        sd = np.sum(state.data)\n",
    "        log_Z.append(np.log(sd))\n",
    "        state.data = state.data/sd\n",
    "\n",
    "    log_Z = TopLayer(state,log_Z)\n",
    "    return log_Z,state\n"
   ]
  },
  {
   "cell_type": "code",
   "execution_count": 140,
   "metadata": {
    "vscode": {
     "languageId": "latex"
    }
   },
   "outputs": [],
   "source": [
    "F = {}\n",
    "for L in [8,10,12,14,16,18][:]:\n",
    "    p_list = np.round(np.linspace(0.2,1,10),2)\n",
    "    T = L\n",
    "    q = 50\n",
    "    F[L] = []\n",
    "    for p in p_list:\n",
    "        log_Z = free_energy(L,p,q,L)[0] \n",
    "        F[L].append(np.sum(log_Z)-(L*np.log(q)))"
   ]
  },
  {
   "cell_type": "code",
   "execution_count": 142,
   "metadata": {
    "vscode": {
     "languageId": "latex"
    }
   },
   "outputs": [],
   "source": [
    "for L in F:\n",
    "    pl.plot(p_list,np.array(F[L])/(L*np.log(q)),'-o',label = r'$L=$'+str(L))\n",
    "pl.ylabel(r'$\\Delta F$',fontsize=16)\n",
    "pl.xlabel(r'$p$',fontsize=16)\n",
    "pl.title(r'Haar random dynamics, transfer_matrix. $q=2,T=10$',fontsize=16)\n",
    "#pl.legend(fontsize=16)\n",
    "pl.tight_layout()"
   ]
  },
  {
   "cell_type": "code",
   "execution_count": 20,
   "metadata": {
    "vscode": {
     "languageId": "latex"
    }
   },
   "outputs": [
    {
     "data": {
      "text/plain": [
       "array([0.85, 0.87, 0.88, 0.9 , 0.92, 0.93, 0.95, 0.97, 0.98, 1.  ])"
      ]
     },
     "execution_count": 20,
     "metadata": {},
     "output_type": "execute_result"
    }
   ],
   "source": [
    "p_list"
   ]
  },
  {
   "cell_type": "code",
   "execution_count": 50,
   "metadata": {
    "vscode": {
     "languageId": "latex"
    }
   },
   "outputs": [],
   "source": [
    "log_Z, state = free_energy(10,1,2,3)"
   ]
  },
  {
   "cell_type": "code",
   "execution_count": 55,
   "metadata": {
    "vscode": {
     "languageId": "latex"
    }
   },
   "outputs": [
    {
     "data": {
      "text/plain": [
       "([0.0, 0.0, 0.0, 10.39720770839918, 3.4657359027997265],\n",
       " 10.39720770839918,\n",
       " 3.4657359027997265,\n",
       " 6.931471805599453,\n",
       " 1.0)"
      ]
     },
     "execution_count": 55,
     "metadata": {},
     "output_type": "execute_result"
    }
   ],
   "source": [
    "log_Z,15*np.log(2),5*np.log(2),10*np.log(2),(np.sum(log_Z)-10*np.log(2))/(10*np.log(2))"
   ]
  },
  {
   "cell_type": "code",
   "execution_count": null,
   "metadata": {
    "vscode": {
     "languageId": "latex"
    }
   },
   "outputs": [],
   "source": []
  }
 ],
 "metadata": {
  "kernelspec": {
   "display_name": "Python 3.6.4 64-bit ('Anaconda3')",
   "language": "python",
   "name": "python3"
  },
  "language_info": {
   "codemirror_mode": {
    "name": "ipython",
    "version": 3
   },
   "file_extension": ".py",
   "mimetype": "text/x-python",
   "name": "python",
   "nbconvert_exporter": "python",
   "pygments_lexer": "ipython3",
   "version": "3.6.4"
  },
  "orig_nbformat": 4,
  "vscode": {
   "interpreter": {
    "hash": "b3699cc6fdc873b6b3af37c02de6fd0dc24404a0e83ba7afee07ecddd9e3270e"
   }
  }
 },
 "nbformat": 4,
 "nbformat_minor": 2
}
