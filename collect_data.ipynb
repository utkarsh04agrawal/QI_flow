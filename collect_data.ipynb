{
 "cells": [
  {
   "cell_type": "code",
   "execution_count": 1,
   "metadata": {},
   "outputs": [],
   "source": [
    "import numpy as np\n",
    "%matplotlib qt\n",
    "import matplotlib.pyplot as pl\n",
    "import time\n",
    "import pickle\n",
    "import os"
   ]
  },
  {
   "cell_type": "code",
   "execution_count": 8,
   "metadata": {},
   "outputs": [],
   "source": [
    "from transfer_matrix import load_bit_state, free_energy_uniform"
   ]
  },
  {
   "cell_type": "code",
   "execution_count": 9,
   "metadata": {},
   "outputs": [],
   "source": [
    "def get_ancilla_array(L,T,pattern='random',preference='E',seed=1): #preference decides to give preference to E or O for initial time step in case they cannot be equally distributed\n",
    "    \"\"\"\n",
    "    -1 corresponds to ancilla given to Environment\n",
    "    +1 corresponds to ancilla given to Observer\n",
    "    0 corresponds to there being no ancilla; that is the transfer matrix is that of Haar dynamics\n",
    "    \"\"\"\n",
    "    if pattern == 'checkerboard':\n",
    "        a_structure = (np.indices((T,L)).sum(axis=0) % 2)\n",
    "        if preference == 'E':\n",
    "            a_structure = 2*a_structure - 1\n",
    "        elif preference == 'O':\n",
    "            a_structure = 1-2*a_structure\n",
    "\n",
    "    if pattern == 'alternate':\n",
    "        a_structure = np.ones((T,L))\n",
    "        for t in range(T):\n",
    "            if preference == 'E':\n",
    "                if t%2==0:\n",
    "                    a_structure[t,:] = -1\n",
    "            elif preference == 'O':\n",
    "                if t%2==1:\n",
    "                    a_structure[t,:] = -1\n",
    "    if pattern == 'random':\n",
    "        rng = np.random.default_rng(seed=seed)\n",
    "        a_structure = rng.integers(0,2,(T,L))*2-1\n",
    "        \n",
    "    return a_structure"
   ]
  },
  {
   "cell_type": "code",
   "execution_count": 10,
   "metadata": {},
   "outputs": [],
   "source": [
    "## Calculate coherent QI for a single encoded bell pair.\n",
    "def delta_F(L,p,q,pattern='random',seed=1,preference='E'):\n",
    "\n",
    "    T = 2*L\n",
    "    q = 2\n",
    "  \n",
    "    F_t = []\n",
    "    # Load initial_states\n",
    "    state_up = load_bit_state(L,2*L,q,'up')\n",
    "    state_down = load_bit_state(L,2*L,q,'down')\n",
    "    state_up.p = p\n",
    "    state_down.p = p\n",
    "\n",
    "    # get ancilla structure. This is an array which decides whether the particular ancilla goes to O or E\n",
    "    a_structure = get_ancilla_array(L,T,pattern=pattern,seed=seed,preference=preference)\n",
    "\n",
    "    # Calculate free energy\n",
    "    state_up,top_layer_up= free_energy_uniform(state_up,T,a_structure)\n",
    "    state_down, top_layer_down= free_energy_uniform(state_down,T,a_structure)\n",
    "\n",
    "    # Free energy difference as a function of time\n",
    "    for t in range(T):\n",
    "        temp_up = np.sum(state_up.log_Z[:1+t+1]) + top_layer_up[t]\n",
    "        temp_down = np.sum(state_down.log_Z[:1+t+1]) + top_layer_down[t]\n",
    "        F_t.append(temp_down-temp_up)\n",
    "\n",
    "    return F_t       "
   ]
  },
  {
   "cell_type": "code",
   "execution_count": 13,
   "metadata": {},
   "outputs": [],
   "source": [
    "L_list = [8,10,12,14,16]\n",
    "p_list = np.round(np.linspace(0.5,1,10),2)\n",
    "F_t = {}\n",
    "F = {}\n",
    "q=2\n",
    "for L in L_list:\n",
    "    F[L] = []\n",
    "    F_t[L] = {}\n",
    "    for p in p_list:\n",
    "        diff_F = delta_F(L,p,q,pattern='alternate',preference='E')\n",
    "        F_t[L][p] = diff_F\n",
    "        F[L].append(diff_F[-1])"
   ]
  },
  {
   "cell_type": "code",
   "execution_count": 15,
   "metadata": {},
   "outputs": [
    {
     "data": {
      "text/plain": [
       "<matplotlib.legend.Legend at 0x1766d4e80>"
      ]
     },
     "execution_count": 15,
     "metadata": {},
     "output_type": "execute_result"
    }
   ],
   "source": [
    "for L in [16]:\n",
    "    for p in F_t[L]:\n",
    "        T_data = np.arange(1,len(F_t[L][p])+1,1)[::2]/L\n",
    "        pl.plot(T_data,np.array(F_t[L][p])[::2]/(np.log(q)),'-o',label = r'$p=$'+str(p))\n",
    "pl.legend()"
   ]
  },
  {
   "cell_type": "code",
   "execution_count": 14,
   "metadata": {},
   "outputs": [],
   "source": [
    "p_c = 0\n",
    "nu = np.inf\n",
    "for L in F:\n",
    "    pl.plot((np.array(p_list)-p_c)*L**(1/nu),[np.array(F_t[L][p][-1])/np.log(q) for p in p_list],'-o',label = r'$L=$'+str(L))\n",
    "\n",
    "pl.ylabel(r'$\\Delta F$',fontsize=16)\n",
    "pl.xlabel(r'$p$',fontsize=16)\n",
    "\n",
    "pl.title(r'Haar random dynamics for single Bell pair,'+'\\n'+ '$q=2,T=10L$, $p_O=p_E=0.5$',fontsize=16)\n",
    "\n",
    "pl.legend(fontsize=16)\n",
    "pl.tight_layout()"
   ]
  },
  {
   "cell_type": "code",
   "execution_count": null,
   "metadata": {},
   "outputs": [],
   "source": []
  }
 ],
 "metadata": {
  "kernelspec": {
   "display_name": "Python 3.9.13 ('base')",
   "language": "python",
   "name": "python3"
  },
  "language_info": {
   "codemirror_mode": {
    "name": "ipython",
    "version": 3
   },
   "file_extension": ".py",
   "mimetype": "text/x-python",
   "name": "python",
   "nbconvert_exporter": "python",
   "pygments_lexer": "ipython3",
   "version": "3.9.13"
  },
  "orig_nbformat": 4,
  "vscode": {
   "interpreter": {
    "hash": "46d4d6e35a705a453addec98352089b1c875d6193677971858623155cb10eb88"
   }
  }
 },
 "nbformat": 4,
 "nbformat_minor": 2
}
