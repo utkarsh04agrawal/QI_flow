{
 "cells": [
  {
   "cell_type": "code",
   "execution_count": 5,
   "metadata": {},
   "outputs": [],
   "source": [
    "import numpy as np\n",
    "%matplotlib qt\n",
    "import matplotlib.pyplot as pl\n",
    "import time\n",
    "import pickle\n",
    "import os"
   ]
  },
  {
   "cell_type": "code",
   "execution_count": 23,
   "metadata": {},
   "outputs": [],
   "source": [
    "class State:\n",
    "    def __init__(self,L:int,p:float,q:int,initial_state) -> None:\n",
    "        assert L%2 == 0\n",
    "        self.p = p\n",
    "        self.q = q\n",
    "        self.L = L\n",
    "        # index = np.arange(0,2**L,1)\n",
    "        self.data = initial_state.copy()\n",
    "        self.log_Z = []\n",
    "        \n",
    "        self.data = np.zeros((2,)*L)\n",
    "        \n",
    "     "
   ]
  },
  {
   "cell_type": "code",
   "execution_count": 15,
   "metadata": {},
   "outputs": [],
   "source": [
    "def eventransfer(State,U_list : list):\n",
    "    L = State.L\n",
    "    if len(U_list) == 1:\n",
    "        U_list = U_list*(L//2)\n",
    "    os = State.data.reshape((4,)*(L//2))\n",
    "    for x in range(L//2):\n",
    "        U = U_list[x]\n",
    "        os = np.tensordot(U,os,axes=(-1,x))\n",
    "        os = np.moveaxis()\n",
    "    os = np.reshape(os,(2,)*L)\n",
    "    State.data = os\n",
    "\n",
    "\n",
    "def oddtransfer(State,U_list : list):\n",
    "    L = State.L\n",
    "    if len(U_list) == 1:\n",
    "        U_list = U_list*(L//2)\n",
    "    os = State.data\n",
    "    os = np.moveaxis(os,0,-1) #bringing 1st spin to the last position\n",
    "    os = np.reshape(os,(4,)*(L//2))\n",
    "\n",
    "    for x in range(L//2):\n",
    "        U = U_list[x]\n",
    "        os = np.tensordot(U,os,axes=(-1,x))\n",
    "    os = np.reshape(os,(2,)*L)\n",
    "    os = np.moveaxis(os,-1,0)\n",
    "    State.data = os"
   ]
  },
  {
   "cell_type": "code",
   "execution_count": 12,
   "metadata": {},
   "outputs": [],
   "source": [
    "def no_of_down_spins(N):\n",
    "    temp = np.arange(0,2**N,1,dtype=int)\n",
    "    no_of_ones = np.zeros(2**N,dtype=float)\n",
    "    for i in range(N):\n",
    "        no_of_ones += temp%2\n",
    "        temp = (temp/2).astype(int)\n",
    "    return N - no_of_ones\n",
    "\n",
    "def TopLayer(state,no_of_downs):\n",
    "    \"\"\"\n",
    "    This function contracts the evolved state with the top layer.\n",
    "    \"\"\"\n",
    "\n",
    "    ## Caluclate no. of down spins in each configuration\n",
    "    # no_of_downs = no_of_down_spins(state.L)\n",
    "    fac = np.sum(state.data.reshape(2**state.L)*((state.q)**(no_of_downs-(state.L)//2)))\n",
    "    \n",
    "    return np.log(fac)"
   ]
  },
  {
   "cell_type": "code",
   "execution_count": 13,
   "metadata": {},
   "outputs": [],
   "source": [
    "def get_U_haar(q):\n",
    "    U = np.zeros((4,4))\n",
    "    U[0,0] = 1\n",
    "    U[3,0] = 0\n",
    "    U[3,3] = 1\n",
    "    U[0,3] = 0\n",
    "    U[3,1] = q/(q**2+1)\n",
    "    U[3,2] = q/(q**2+1)\n",
    "    U[0,1] = q/(q**2+1)\n",
    "    U[0,2] = q/(q**2+1)\n",
    "    return U\n",
    "\n",
    "def get_U_t(p,q):\n",
    "    U = np.zeros((4,4))\n",
    "    U[0,0] = p**2\n",
    "    U[3,0] = (1-p**2)/q**2\n",
    "    U[3,3] = 1\n",
    "    U[0,3] = 0\n",
    "    U[3,1] = q*p**2/(q**2+1) + (1-p**2)/q\n",
    "    U[3,2] = q*p**2/(q**2+1) + (1-p**2)/q\n",
    "    U[0,1] = p**2*q/(q**2+1)\n",
    "    U[0,2] = p**2*q/(q**2+1)\n",
    "    return U\n",
    "\n",
    "def get_U_k(p,q):\n",
    "    U = np.zeros((4,4))\n",
    "    U[0,0] = 1\n",
    "    U[3,0] = 0\n",
    "    U[3,3] = p**2\n",
    "    U[0,3] = (1-p**2)/q**2\n",
    "    U[0,2] = q*p**2/(q**2+1) + (1-p**2)/q\n",
    "    U[0,1] = q*p**2/(q**2+1) + (1-p**2)/q\n",
    "    U[3,2] = p**2*q/(q**2+1)\n",
    "    U[3,1] = p**2*q/(q**2+1)\n",
    "    return U"
   ]
  },
  {
   "cell_type": "code",
   "execution_count": 28,
   "metadata": {},
   "outputs": [],
   "source": [
    "def encoded_bit_state(L,depth,q,BC='up'): \n",
    "    \"\"\"\n",
    "    This function evolves a single LOCAL bell pair to global bit by evolving by Haar dynamics. BC specify whether the initial boundary condition of the bell pair is 'up' or 'down' corresponding to Identity or Swap permutation respectively.\n",
    "    \"\"\"\n",
    "    # up and down correspond to bottom boundary condition for the bell pair.\n",
    "    \n",
    "    initial_state = np.zeros((2,)*L)\n",
    "    if BC == 'up':\n",
    "        initial_state[1,:] = 1\n",
    "    elif BC == 'down':\n",
    "        initial_state[0,:] = 1\n",
    "    else:\n",
    "        print(\"BC parameter is wrong. It can only take 'up' or 'down' value\")\n",
    "    \n",
    "    state = State(L=L,p=None,q=q,initial_state=initial_state)\n",
    "    log_Z = []\n",
    "     # Scrambling\n",
    "    U_haar = get_U_haar(q)\n",
    "    for t in range(depth):\n",
    "        start = time.time()\n",
    "        if t%2 == 0:\n",
    "            eventransfer(state,[U_haar])\n",
    "        else:\n",
    "            oddtransfer(state,[U_haar])\n",
    "        sd = np.sum(state.data)\n",
    "        log_Z.append(np.log(sd))\n",
    "        state.data = state.data/sd\n",
    "    state.log_Z.append(np.sum(log_Z)) # storing the Z (partition function) for the encoding process\n",
    "\n",
    "    return state\n",
    "\n",
    "\n",
    "def load_bit_state(L,depth,q,BC='up'):\n",
    "    filedir = 'data/encoded_bell_pairs'\n",
    "    if not os.path.isdir(filedir):\n",
    "        os.makedirs(filedir)\n",
    "    \n",
    "    filename = filedir + '/L='+str(L)+'_T='+str(depth)+'_q='+str(q)+'_'+BC\n",
    "    if os.path.isfile(filename):\n",
    "        with open(filename,'rb') as f:\n",
    "            state = pickle.load(f)\n",
    "        return state\n",
    "    \n",
    "    state = encoded_bit_state(L,depth,q,BC)\n",
    "    with open(filename,'wb') as f:\n",
    "        pickle.dump(state,f)\n",
    "    \n",
    "    return state\n",
    "    "
   ]
  },
  {
   "cell_type": "code",
   "execution_count": 29,
   "metadata": {},
   "outputs": [],
   "source": [
    "def get_U_list(U_t,U_k,U_haar,a_string):\n",
    "    U_list = []\n",
    "    N = len(a_string)\n",
    "    if a_string == 't'*N:\n",
    "        U_list = [U_t]\n",
    "    elif a_string == 'k'*N:\n",
    "        U_list = [U_k]\n",
    "    elif a_string == 'h'*N:\n",
    "        U_list = [U_haar]\n",
    "    \n",
    "    else:\n",
    "        for x in range(N):\n",
    "            if a_string[x] == 't':\n",
    "                U_list.append(U_t)\n",
    "            elif a_string[x] == 'k':\n",
    "                U_list.append(U_k)\n",
    "            elif a_string[x] == 'h':\n",
    "                U_list.append(U_haar)\n",
    "    \n",
    "    return U_list\n",
    "\n",
    "## function to get free energy when the strength of coupling between S and ancillas is same everywhere\n",
    "def free_energy_uniform(state: State, depth,ancilla_string : list):\n",
    "    \"\"\"\n",
    "    ancilla_string is a list whose elements are string of length L//2. For the element 't','k','h', the transfer matrix corresponding to having the ancilla traced out, kept in system, no ancilla respectively are applied. \n",
    "    \"\"\"\n",
    "    p = state.p\n",
    "    q = state.q\n",
    "    L = state.L\n",
    "\n",
    "    top_layer_factor = []\n",
    "    ##\n",
    "    U_t = get_U_t(p,q)\n",
    "    U_k = get_U_k(p,q)\n",
    "    U_haar = get_U_haar(q)\n",
    "\n",
    "    no_of_downs = no_of_down_spins(L)\n",
    "\n",
    "    for t in range(depth):\n",
    "        # start = time.time()\n",
    "        U_list = get_U_list(U_t,U_k,U_haar,ancilla_string[t])\n",
    "        if t%2 == 0:\n",
    "            eventransfer(state,U_list)\n",
    "        else:\n",
    "            oddtransfer(state,U_list)\n",
    "        sd = np.sum(state.data)\n",
    "        state.log_Z.append(np.log(sd))\n",
    "        state.data = state.data/sd\n",
    "        # print(time.time()-start)\n",
    "        top_layer_factor.append(TopLayer(state,no_of_downs))\n",
    "    \n",
    "\n",
    "    return state,top_layer_factor\n"
   ]
  },
  {
   "cell_type": "code",
   "execution_count": 30,
   "metadata": {},
   "outputs": [],
   "source": [
    "def get_ancilla_string(L,T):\n",
    "    a_string = ['t'*(L//2) for i in range(T)]\n",
    "    return a_string"
   ]
  },
  {
   "cell_type": "code",
   "execution_count": 46,
   "metadata": {},
   "outputs": [
    {
     "name": "stdout",
     "output_type": "stream",
     "text": [
      "[nan]\n",
      "['tttt', 'tttt', 'tttt', 'tttt', 'tttt', 'tttt', 'tttt', 'tttt', 'tttt', 'tttt', 'tttt', 'tttt', 'tttt', 'tttt', 'tttt', 'tttt'] 17 [nan, nan, nan, nan, nan, nan, nan, nan, nan, nan, nan, nan, nan, nan, nan, nan]\n",
      "[nan]\n",
      "['tttt', 'tttt', 'tttt', 'tttt', 'tttt', 'tttt', 'tttt', 'tttt', 'tttt', 'tttt', 'tttt', 'tttt', 'tttt', 'tttt', 'tttt', 'tttt'] 17 [nan, nan, nan, nan, nan, nan, nan, nan, nan, nan, nan, nan, nan, nan, nan, nan]\n",
      "[nan]\n",
      "['tttt', 'tttt', 'tttt', 'tttt', 'tttt', 'tttt', 'tttt', 'tttt', 'tttt', 'tttt', 'tttt', 'tttt', 'tttt', 'tttt', 'tttt', 'tttt'] 17 [nan, nan, nan, nan, nan, nan, nan, nan, nan, nan, nan, nan, nan, nan, nan, nan]\n",
      "[nan]\n",
      "['tttt', 'tttt', 'tttt', 'tttt', 'tttt', 'tttt', 'tttt', 'tttt', 'tttt', 'tttt', 'tttt', 'tttt', 'tttt', 'tttt', 'tttt', 'tttt'] 17 [nan, nan, nan, nan, nan, nan, nan, nan, nan, nan, nan, nan, nan, nan, nan, nan]\n",
      "[nan]\n",
      "['tttt', 'tttt', 'tttt', 'tttt', 'tttt', 'tttt', 'tttt', 'tttt', 'tttt', 'tttt', 'tttt', 'tttt', 'tttt', 'tttt', 'tttt', 'tttt'] 17 [nan, nan, nan, nan, nan, nan, nan, nan, nan, nan, nan, nan, nan, nan, nan, nan]\n",
      "[nan]\n",
      "['tttt', 'tttt', 'tttt', 'tttt', 'tttt', 'tttt', 'tttt', 'tttt', 'tttt', 'tttt', 'tttt', 'tttt', 'tttt', 'tttt', 'tttt', 'tttt'] 17 [nan, nan, nan, nan, nan, nan, nan, nan, nan, nan, nan, nan, nan, nan, nan, nan]\n",
      "[nan]\n",
      "['tttt', 'tttt', 'tttt', 'tttt', 'tttt', 'tttt', 'tttt', 'tttt', 'tttt', 'tttt', 'tttt', 'tttt', 'tttt', 'tttt', 'tttt', 'tttt'] 17 [nan, nan, nan, nan, nan, nan, nan, nan, nan, nan, nan, nan, nan, nan, nan, nan]\n",
      "[nan]\n",
      "['tttt', 'tttt', 'tttt', 'tttt', 'tttt', 'tttt', 'tttt', 'tttt', 'tttt', 'tttt', 'tttt', 'tttt', 'tttt', 'tttt', 'tttt', 'tttt'] 17 [nan, nan, nan, nan, nan, nan, nan, nan, nan, nan, nan, nan, nan, nan, nan, nan]\n",
      "[nan]\n",
      "['tttt', 'tttt', 'tttt', 'tttt', 'tttt', 'tttt', 'tttt', 'tttt', 'tttt', 'tttt', 'tttt', 'tttt', 'tttt', 'tttt', 'tttt', 'tttt'] 17 [nan, nan, nan, nan, nan, nan, nan, nan, nan, nan, nan, nan, nan, nan, nan, nan]\n",
      "[nan]\n",
      "['tttt', 'tttt', 'tttt', 'tttt', 'tttt', 'tttt', 'tttt', 'tttt', 'tttt', 'tttt', 'tttt', 'tttt', 'tttt', 'tttt', 'tttt', 'tttt'] 17 [nan, nan, nan, nan, nan, nan, nan, nan, nan, nan, nan, nan, nan, nan, nan, nan]\n"
     ]
    }
   ],
   "source": [
    "## Calculate coherent QI for a single encoded bell pair.\n",
    "F = {}\n",
    "F_t = {}\n",
    "for L in [8][:]:\n",
    "    p_list = np.round(np.linspace(0.5,1,10),2)\n",
    "    T = 2*L\n",
    "    q = 2\n",
    "    F[L] = []\n",
    "    F_t[L] = {}\n",
    "    for p in p_list:\n",
    "        F_t[L][p] = []\n",
    "        state_up = load_bit_state(L,2*L,q,'up')\n",
    "        state_down = load_bit_state(L,2*L,q,'down')\n",
    "        state_up.p = p\n",
    "        state_down.p = p\n",
    "        a_string = get_ancilla_string(L,T)\n",
    "        print(state_down.log_Z)\n",
    "        state_up,top_layer_up= free_energy_uniform(state_up,T,a_string)\n",
    "        state_down, top_layer_down= free_energy_uniform(state_down,T,a_string)\n",
    "\n",
    "        print(a_string,len(state_down.log_Z),top_layer_up)\n",
    "        for t in range(T):\n",
    "            temp_up =  top_layer_up[t]\n",
    "            temp_down =  top_layer_down[t]\n",
    "            F_t[L][p].append(temp_down-temp_up)\n",
    "        F[L].append(F_t[L][p][-1])\n",
    "            "
   ]
  },
  {
   "cell_type": "code",
   "execution_count": null,
   "metadata": {},
   "outputs": [],
   "source": []
  },
  {
   "cell_type": "markdown",
   "metadata": {},
   "source": [
    "##### Check how single qubit scrambling helps?"
   ]
  },
  {
   "cell_type": "code",
   "execution_count": 42,
   "metadata": {},
   "outputs": [
    {
     "name": "stdout",
     "output_type": "stream",
     "text": [
      "[nan, nan, nan, nan, nan, nan, nan, nan, nan, nan, nan, nan, nan, nan, nan, nan]\n",
      "[nan, nan, nan, nan, nan, nan, nan, nan, nan, nan, nan, nan, nan, nan, nan, nan]\n",
      "[nan, nan, nan, nan, nan, nan, nan, nan, nan, nan, nan, nan, nan, nan, nan, nan]\n",
      "[nan, nan, nan, nan, nan, nan, nan, nan, nan, nan, nan, nan, nan, nan, nan, nan]\n",
      "[nan, nan, nan, nan, nan, nan, nan, nan, nan, nan, nan, nan, nan, nan, nan, nan]\n",
      "[nan, nan, nan, nan, nan, nan, nan, nan, nan, nan, nan, nan, nan, nan, nan, nan]\n",
      "[nan, nan, nan, nan, nan, nan, nan, nan, nan, nan, nan, nan, nan, nan, nan, nan]\n",
      "[nan, nan, nan, nan, nan, nan, nan, nan, nan, nan, nan, nan, nan, nan, nan, nan]\n",
      "[nan, nan, nan, nan, nan, nan, nan, nan, nan, nan, nan, nan, nan, nan, nan, nan]\n",
      "[nan, nan, nan, nan, nan, nan, nan, nan, nan, nan, nan, nan, nan, nan, nan, nan]\n"
     ]
    },
    {
     "data": {
      "text/plain": [
       "<matplotlib.legend.Legend at 0x241ee1bce48>"
      ]
     },
     "execution_count": 42,
     "metadata": {},
     "output_type": "execute_result"
    }
   ],
   "source": [
    "for L in [8]:\n",
    "    for p in F_t[L]:\n",
    "        print\n",
    "        T_data = np.arange(1,len(F_t[L][p])+1,1)[::2]/L\n",
    "        print(F_t[L][p])\n",
    "        pl.plot(T_data,np.array(F_t[L][p])[::2]/(np.log(q)),'-o',label = r'$p=$'+str(p))\n",
    "pl.legend()"
   ]
  },
  {
   "cell_type": "code",
   "execution_count": 130,
   "metadata": {},
   "outputs": [],
   "source": [
    "for L in F:\n",
    "    pl.plot(p_list,[np.array(F_t[L][p][-1])/np.log(q) for p in p_list],'-o',label = r'$L=$'+str(L))\n",
    "\n",
    "pl.ylabel(r'$\\Delta F$',fontsize=16)\n",
    "pl.xlabel(r'$p$',fontsize=16)\n",
    "\n",
    "pl.title(r'Haar random dynamics for single Bell pair,'+'\\n'+ '$q=2,T=10L$, $p_O=p_E=0.5$',fontsize=16)\n",
    "\n",
    "pl.legend(fontsize=16)\n",
    "pl.tight_layout()"
   ]
  },
  {
   "cell_type": "code",
   "execution_count": 242,
   "metadata": {},
   "outputs": [
    {
     "data": {
      "text/plain": [
       "array([0.05, 0.1 , 0.15, 0.2 , 0.25, 0.3 , 0.35, 0.4 , 0.45, 0.5 , 0.55,\n",
       "       0.6 , 0.65, 0.7 , 0.75, 0.8 , 0.85, 0.9 , 0.95, 1.  ])"
      ]
     },
     "execution_count": 242,
     "metadata": {},
     "output_type": "execute_result"
    }
   ],
   "source": [
    "p_list"
   ]
  },
  {
   "cell_type": "code",
   "execution_count": null,
   "metadata": {},
   "outputs": [],
   "source": []
  }
 ],
 "metadata": {
  "kernelspec": {
   "display_name": "Python 3.6.4 64-bit ('Anaconda3')",
   "language": "python",
   "name": "python3"
  },
  "language_info": {
   "codemirror_mode": {
    "name": "ipython",
    "version": 3
   },
   "file_extension": ".py",
   "mimetype": "text/x-python",
   "name": "python",
   "nbconvert_exporter": "python",
   "pygments_lexer": "ipython3",
   "version": "3.6.4"
  },
  "orig_nbformat": 4,
  "vscode": {
   "interpreter": {
    "hash": "b3699cc6fdc873b6b3af37c02de6fd0dc24404a0e83ba7afee07ecddd9e3270e"
   }
  }
 },
 "nbformat": 4,
 "nbformat_minor": 2
}
