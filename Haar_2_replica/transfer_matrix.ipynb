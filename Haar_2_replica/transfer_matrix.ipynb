{
 "cells": [
  {
   "cell_type": "code",
   "execution_count": 233,
   "metadata": {},
   "outputs": [],
   "source": [
    "import numpy as np\n",
    "%matplotlib qt\n",
    "import matplotlib.pyplot as pl"
   ]
  },
  {
   "cell_type": "code",
   "execution_count": 234,
   "metadata": {},
   "outputs": [],
   "source": [
    "class State:\n",
    "    def __init__(self,L:int,p:float,q:int,all_up=False) -> None:\n",
    "        assert L%2 == 0\n",
    "        self.p = p\n",
    "        self.q = q\n",
    "        self.L = L\n",
    "        # index = np.arange(0,2**L,1)\n",
    "        self.data = np.zeros((2,)*L)\n",
    "        if not all_up:\n",
    "            self.data[(0,)*L] = 1\n",
    "        if all_up:\n",
    "            self.data[(1,)*L] = 1\n",
    "        self.all_up = all_up\n",
    "        ##\n",
    "        # no_of_ones = np.zeros(2**L,dtype=int)\n",
    "        # for i in range(L):\n",
    "        #     no_of_ones += temp%2\n",
    "        #     temp = (temp/2).astype(int)\n",
    "        # self.data = (p**2)**(L-no_of_ones)*((1 - p**2)/(q**2))**no_of_ones\n",
    "        # self.data = self.data.reshape((2,)*L)"
   ]
  },
  {
   "cell_type": "code",
   "execution_count": 235,
   "metadata": {},
   "outputs": [],
   "source": [
    "def eventransfer(State,U_t,U_k):\n",
    "    L = State.L\n",
    "    p = State.p\n",
    "    q = State.q\n",
    "    os = State.data.reshape((4,)*(L//2))\n",
    "    for x in range(L//2):\n",
    "        if x%2 == 0:\n",
    "            U = U_t\n",
    "        else:\n",
    "            U = U_k\n",
    "        os = np.tensordot(U,os,axes=(-1,x))\n",
    "    os = np.reshape(os,(2,)*L)\n",
    "    State.data = os\n",
    "\n",
    "\n",
    "def oddtransfer(State,U_t,U_k):\n",
    "    L = State.L\n",
    "    p = State.p\n",
    "    q = State.q\n",
    "    os = State.data\n",
    "    os = np.moveaxis(os,0,-1) #bringing 1st spin to the last position\n",
    "    os = np.reshape(os,(4,)*(L//2))\n",
    "\n",
    "    for x in range(L//2):\n",
    "        if x%2 == 0:\n",
    "            U = U_t\n",
    "        else:\n",
    "            U = U_k\n",
    "        os = np.tensordot(U,os,axes=(-1,x))\n",
    "    os = np.reshape(os,(2,)*L)\n",
    "    os = np.moveaxis(os,-1,0)\n",
    "    State.data = os"
   ]
  },
  {
   "cell_type": "code",
   "execution_count": 246,
   "metadata": {},
   "outputs": [],
   "source": [
    "def no_of_down_spins(N):\n",
    "    temp = np.arange(0,2**N,1,dtype=int)\n",
    "    no_of_ones = np.zeros(2**N,dtype=float)\n",
    "    for i in range(N):\n",
    "        no_of_ones += temp%2\n",
    "        temp = (temp/2).astype(int)\n",
    "    return N - no_of_ones\n",
    "\n",
    "def TopLayer(state,no_of_downs):\n",
    "    \"\"\"\n",
    "    This function contracts the evolved state with the top layer.\n",
    "    \"\"\"\n",
    "\n",
    "    ## Caluclate no. of down spins in each configuration\n",
    "    # no_of_downs = no_of_down_spins(state.L)\n",
    "    fac = np.sum(state.data.reshape(2**state.L)*((state.q)**(no_of_downs-(state.L)//2)))\n",
    "    \n",
    "    return np.log(fac)"
   ]
  },
  {
   "cell_type": "code",
   "execution_count": 247,
   "metadata": {},
   "outputs": [],
   "source": [
    "def get_U_t(p,q):\n",
    "    U = np.zeros((4,4))\n",
    "    U[0,0] = p**2\n",
    "    U[3,0] = (1-p**2)/q**2\n",
    "    U[3,3] = 1\n",
    "    U[0,3] = 0\n",
    "    U[3,1] = q*p**2/(q**2+1) + (1-p**2)/q\n",
    "    U[3,2] = q*p**2/(q**2+1) + (1-p**2)/q\n",
    "    U[0,1] = p**2*q/(q**2+1)\n",
    "    U[0,2] = p**2*q/(q**2+1)\n",
    "    return U\n",
    "\n",
    "def get_U_k(p,q):\n",
    "    U = np.zeros((4,4))\n",
    "    U[0,0] = 1\n",
    "    U[3,0] = 0\n",
    "    U[3,3] = p**2\n",
    "    U[0,3] = (1-p**2)/q**2\n",
    "    U[0,2] = q*p**2/(q**2+1) + (1-p**2)/q\n",
    "    U[0,1] = q*p**2/(q**2+1) + (1-p**2)/q\n",
    "    U[3,2] = p**2*q/(q**2+1)\n",
    "    U[3,1] = p**2*q/(q**2+1)\n",
    "    return U"
   ]
  },
  {
   "cell_type": "code",
   "execution_count": 280,
   "metadata": {},
   "outputs": [],
   "source": [
    "def free_energy(L,p,q,T,all_up=False):\n",
    "\n",
    "    state = State(L,p,q,all_up)\n",
    "    log_Z = []\n",
    "    top_layer_factor = []\n",
    "    ##\n",
    "    U_t = get_U_t(p,q)\n",
    "    U_k = get_U_k(p,q)\n",
    "    seed=1\n",
    "    rng = np.random.default_rng(seed=seed)\n",
    "    no_of_downs = no_of_down_spins(state.L)\n",
    "    ##\n",
    "\n",
    "    for t in range(T):\n",
    "        \n",
    "        if t%2 == 0:\n",
    "            eventransfer(state,U_t,U_t)\n",
    "        else:\n",
    "            oddtransfer(state,U_k,U_k)\n",
    "        sd = np.sum(state.data)\n",
    "        log_Z.append(np.log(sd))\n",
    "        state.data = state.data/sd\n",
    "\n",
    "    top_layer_factor.append(TopLayer(state,no_of_downs))\n",
    "    \n",
    "FileNotFoundError\n",
    "    return log_Z,top_layer_factor,state\n"
   ]
  },
  {
   "cell_type": "code",
   "execution_count": 286,
   "metadata": {},
   "outputs": [],
   "source": [
    "F = {}\n",
    "F_t = {}\n",
    "for L in [8,10,12,14,16,18][:]:\n",
    "    p_list = np.round(np.linspace(0.5,1,10),2)\n",
    "    T = 10*L\n",
    "    q = 2\n",
    "    F[L] = []\n",
    "    F_t[L] = {}\n",
    "    for p in p_list:\n",
    "        F_t[L][p] = []\n",
    "        log_Z_up,top_layer_up,_ = free_energy(L,p,q,T,all_up=True)\n",
    "        log_Z_down, top_layer_down,_ = free_energy(L,p,q,T,all_up=False)\n",
    "        for t in [T-1]:\n",
    "            temp_up = np.sum(log_Z_up[:t+1]) + top_layer_up[-1]\n",
    "            temp_down = np.sum(log_Z_down[:t+1]) + top_layer_down[-1]\n",
    "            F_t[L][p].append(temp_down-temp_up)\n",
    "        F[L].append(F_t[L][p][-1])\n",
    "            "
   ]
  },
  {
   "cell_type": "code",
   "execution_count": 283,
   "metadata": {},
   "outputs": [
    {
     "data": {
      "text/plain": [
       "<matplotlib.legend.Legend at 0x1ae1faab2e8>"
      ]
     },
     "execution_count": 283,
     "metadata": {},
     "output_type": "execute_result"
    }
   ],
   "source": [
    "for L in [14]:\n",
    "    for p in F_t[L]:\n",
    "        T_data = np.arange(1,len(F_t[L][p])+1,1)[::2]/L\n",
    "        pl.plot(T_data,1+np.array(F_t[L][p])[::2]/(L*np.log(q)),'-^',label = r'$p=$'+str(p))\n",
    "pl.legend()"
   ]
  },
  {
   "cell_type": "code",
   "execution_count": 293,
   "metadata": {},
   "outputs": [],
   "source": [
    "for L in F:\n",
    "    pl.plot(p_list,[1+np.array(F_t[L][p][-1])/(L*np.log(q)) for p in p_list],'-o',label = r'$L=$'+str(L))\n",
    "pl.ylabel(r'$\\Delta F$',fontsize=16)\n",
    "pl.xlabel(r'$p$',fontsize=16)\n",
    "pl.title(r'Haar random dynamics, transfer_matrix. $q=2,T=10L$,' +'\\n'+ '$p_O=p_E=0.5$',fontsize=16)\n",
    "pl.legend(fontsize=16)\n",
    "pl.tight_layout()"
   ]
  },
  {
   "cell_type": "code",
   "execution_count": 242,
   "metadata": {},
   "outputs": [
    {
     "data": {
      "text/plain": [
       "array([0.05, 0.1 , 0.15, 0.2 , 0.25, 0.3 , 0.35, 0.4 , 0.45, 0.5 , 0.55,\n",
       "       0.6 , 0.65, 0.7 , 0.75, 0.8 , 0.85, 0.9 , 0.95, 1.  ])"
      ]
     },
     "execution_count": 242,
     "metadata": {},
     "output_type": "execute_result"
    }
   ],
   "source": [
    "p_list"
   ]
  },
  {
   "cell_type": "code",
   "execution_count": null,
   "metadata": {},
   "outputs": [],
   "source": []
  }
 ],
 "metadata": {
  "kernelspec": {
   "display_name": "Python 3.6.4 64-bit ('Anaconda3')",
   "language": "python",
   "name": "python3"
  },
  "language_info": {
   "codemirror_mode": {
    "name": "ipython",
    "version": 3
   },
   "file_extension": ".py",
   "mimetype": "text/x-python",
   "name": "python",
   "nbconvert_exporter": "python",
   "pygments_lexer": "ipython3",
   "version": "3.6.4"
  },
  "orig_nbformat": 4,
  "vscode": {
   "interpreter": {
    "hash": "b3699cc6fdc873b6b3af37c02de6fd0dc24404a0e83ba7afee07ecddd9e3270e"
   }
  }
 },
 "nbformat": 4,
 "nbformat_minor": 2
}
