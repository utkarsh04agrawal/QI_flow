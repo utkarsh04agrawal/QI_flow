{
 "cells": [
  {
   "cell_type": "code",
   "execution_count": 1,
   "metadata": {},
   "outputs": [],
   "source": [
    "import numpy as np\n",
    "%matplotlib qt\n",
    "import matplotlib.pyplot as pl\n",
    "import time\n",
    "import pickle\n",
    "import os\n"
   ]
  },
  {
   "cell_type": "code",
   "execution_count": 2,
   "metadata": {},
   "outputs": [
    {
     "data": {
      "text/plain": [
       "'/Users/utkarshagrawal/Documents/Postdoc/QI_flow/Haar_2_replica_bounadry_dissipation_DW_picture'"
      ]
     },
     "execution_count": 2,
     "metadata": {},
     "output_type": "execute_result"
    }
   ],
   "source": [
    "os.getcwd()"
   ]
  },
  {
   "cell_type": "code",
   "execution_count": 3,
   "metadata": {},
   "outputs": [
    {
     "name": "stdout",
     "output_type": "stream",
     "text": [
      "(array([0.        , 0.4921875 , 0.        , 0.328125  , 0.        ,\n",
      "       0.140625  , 0.        , 0.03515625, 0.        , 0.00390625,\n",
      "       0.        ]), array([[0.        , 1.        , 1.        , 1.        , 1.        ,\n",
      "        1.        , 1.        , 1.        , 1.        , 1.        ],\n",
      "       [0.        , 1.        , 1.        , 1.        , 1.        ,\n",
      "        1.        , 1.        , 1.        , 1.        , 1.        ],\n",
      "       [0.        , 0.5       , 1.        , 1.        , 1.        ,\n",
      "        1.        , 1.        , 1.        , 1.        , 1.        ],\n",
      "       [0.        , 0.75      , 0.75      , 1.        , 1.        ,\n",
      "        1.        , 1.        , 1.        , 1.        , 1.        ],\n",
      "       [0.        , 0.375     , 0.875     , 0.875     , 1.        ,\n",
      "        1.        , 1.        , 1.        , 1.        , 1.        ],\n",
      "       [0.        , 0.625     , 0.625     , 0.9375    , 0.9375    ,\n",
      "        1.        , 1.        , 1.        , 1.        , 1.        ],\n",
      "       [0.        , 0.3125    , 0.78125   , 0.78125   , 0.96875   ,\n",
      "        0.96875   , 1.        , 1.        , 1.        , 1.        ],\n",
      "       [0.        , 0.546875  , 0.546875  , 0.875     , 0.875     ,\n",
      "        0.984375  , 0.984375  , 1.        , 1.        , 1.        ],\n",
      "       [0.        , 0.2734375 , 0.7109375 , 0.7109375 , 0.9296875 ,\n",
      "        0.9296875 , 0.9921875 , 0.9921875 , 1.        , 1.        ],\n",
      "       [0.        , 0.4921875 , 0.4921875 , 0.8203125 , 0.8203125 ,\n",
      "        0.9609375 , 0.9609375 , 0.99609375, 0.99609375, 1.        ]]))\n"
     ]
    }
   ],
   "source": [
    "import transfer_matrix_DW"
   ]
  },
  {
   "cell_type": "code",
   "execution_count": 27,
   "metadata": {},
   "outputs": [],
   "source": [
    "def free_energy_difference(L,T,q,p,bell_pair_position,T_scram = 0):\n",
    "    ancilla_structure = [0,1]*(T//2) + [0]*(T%2) + [0]*T_scram\n",
    "    \n",
    "    state,theta_array = transfer_matrix_DW.state_evolution(L=L,T=T+T_scram,q=q,p=p,ancilla_structure=ancilla_structure)\n",
    "\n",
    "    theta_bell = theta_array[:,bell_pair_position-1] # probability that DW is left of the bell pair\n",
    "\n",
    "    Z_down = q**2 * theta_bell + q * (1-theta_bell)\n",
    "    Z_up = q * theta_bell + q**2 * (1-theta_bell)\n",
    "\n",
    "    # Shortcut to calculate delta_F\n",
    "    # delta_F = (np.log(1 + (q-1)*theta_bell) - np.log(q - (q-1)*theta_bell))/np.log(q)\n",
    "\n",
    "    return (np.log(Z_down)-np.log(Z_up))/np.log(q)"
   ]
  },
  {
   "cell_type": "code",
   "execution_count": 102,
   "metadata": {},
   "outputs": [],
   "source": [
    "L_list = range(600,1800,200)\n",
    "p_list = np.round(np.linspace(0.2,0.6,10)**0.5,3)\n",
    "F_t = {}\n",
    "for L in L_list:\n",
    "    F_t[L] = {}\n",
    "    for p in p_list:\n",
    "        F_t[L][p] = free_energy_difference(L,L,q=2,p=p,bell_pair_position=50,T_scram=0)\n",
    "\n"
   ]
  },
  {
   "cell_type": "code",
   "execution_count": 103,
   "metadata": {},
   "outputs": [],
   "source": [
    "%matplotlib qt\n",
    "p_c = 0.5783\n",
    "nu = 1\n",
    "fig,ax = pl.subplots(1,1)\n",
    "fig2,ax2 = pl.subplots(1,1)\n",
    "# ax2 = pl.subplot(1,1,1,figure=2)\n",
    "T_ratio = 1/2\n",
    "for L in F_t:\n",
    "    ydata = np.array([F_t[L][p][int(T_ratio*L)] for p in F_t[L]])\n",
    "    ax.plot(np.array(p_list)**2,ydata,'-o',label = r'$L=$'+str(L))\n",
    "    ax2.plot((np.array(p_list)**2-p_c)*L**(1/nu),ydata,'o',label = r'$L=$'+str(L))\n",
    "ax.set_ylabel(r'$\\Delta F$',fontsize=16)\n",
    "ax2.set_ylabel(r'$\\Delta F$',fontsize=16)\n",
    "ax.set_xlabel(r'$p^2$',fontsize=16)\n",
    "ax2.set_xlabel(r'$(p^2-p^2_c)L^{1/\\nu}$',fontsize=16)\n",
    "\n",
    "ax.set_title(r'$q=2,T='+str(T_ratio)+'L$',fontsize=16)\n",
    "\n",
    "ax.legend(fontsize=16)\n",
    "ax2.legend(fontsize=16)\n",
    "pl.tight_layout()"
   ]
  },
  {
   "cell_type": "code",
   "execution_count": null,
   "metadata": {},
   "outputs": [],
   "source": []
  }
 ],
 "metadata": {
  "kernelspec": {
   "display_name": "Python 3.9.13 ('base')",
   "language": "python",
   "name": "python3"
  },
  "language_info": {
   "codemirror_mode": {
    "name": "ipython",
    "version": 3
   },
   "file_extension": ".py",
   "mimetype": "text/x-python",
   "name": "python",
   "nbconvert_exporter": "python",
   "pygments_lexer": "ipython3",
   "version": "3.9.13"
  },
  "orig_nbformat": 4,
  "vscode": {
   "interpreter": {
    "hash": "46d4d6e35a705a453addec98352089b1c875d6193677971858623155cb10eb88"
   }
  }
 },
 "nbformat": 4,
 "nbformat_minor": 2
}
